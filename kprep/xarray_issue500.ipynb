{
 "cells": [
  {
   "cell_type": "code",
   "execution_count": 1,
   "metadata": {},
   "outputs": [
    {
     "name": "stderr",
     "output_type": "stream",
     "text": [
      "/home/folmer/.local/lib/python3.7/site-packages/xarray/core/merge.py:10: FutureWarning: The Panel class is removed from pandas. Accessing it from the top-level namespace will also be removed in the next version\n",
      "  PANDAS_TYPES = (pd.Series, pd.DataFrame, pd.Panel)\n"
     ]
    }
   ],
   "source": [
    "import xarray as xr\n",
    "import pandas as pd\n",
    "import numpy as np"
   ]
  },
  {
   "cell_type": "code",
   "execution_count": 2,
   "metadata": {},
   "outputs": [],
   "source": [
    "temp = 15 + 8 * np.random.randn(2, 2, 3)\n",
    "lon = [[-99.83, -99.32], [-99.79, -99.23]]\n",
    "lat = [[42.25, 42.21], [42.63, 42.59]]\n",
    "ds = xr.Dataset({'temperature': (['x', 'y', 'time'],  temp)},\n",
    "                 coords={'lon': (['x', 'y'], lon),\n",
    "                         'lat': (['x', 'y'], lat),\n",
    "                         'time': pd.date_range('2014-09-01', periods=3,freq='MS'),\n",
    "                        })"
   ]
  },
  {
   "cell_type": "code",
   "execution_count": 3,
   "metadata": {},
   "outputs": [],
   "source": [
    "seltime = ds.time[2]"
   ]
  },
  {
   "cell_type": "code",
   "execution_count": 4,
   "metadata": {},
   "outputs": [
    {
     "data": {
      "text/plain": [
       "time: DatetimeIndex(['2014-09-01', '2014-10-01', '2014-11-01'], dtype='datetime64[ns]', name='time', freq='MS')"
      ]
     },
     "execution_count": 4,
     "metadata": {},
     "output_type": "execute_result"
    }
   ],
   "source": [
    "ds.time.indexes"
   ]
  },
  {
   "cell_type": "code",
   "execution_count": 5,
   "metadata": {},
   "outputs": [],
   "source": [
    "ds.time.values = pd.to_datetime(ds.time.values) + pd.DateOffset(months=2)"
   ]
  },
  {
   "cell_type": "code",
   "execution_count": 6,
   "metadata": {},
   "outputs": [
    {
     "name": "stdout",
     "output_type": "stream",
     "text": [
      "<xarray.DataArray 'time' ()>\n",
      "array('2014-11-01T00:00:00.000000000', dtype='datetime64[ns]')\n",
      "Coordinates:\n",
      "    time     datetime64[ns] 2014-11-01\n"
     ]
    }
   ],
   "source": [
    "print(ds.sel(time=seltime).time)"
   ]
  },
  {
   "cell_type": "code",
   "execution_count": 7,
   "metadata": {},
   "outputs": [
    {
     "data": {
      "text/plain": [
       "time: DatetimeIndex(['2014-11-01', '2014-12-01', '2015-01-01'], dtype='datetime64[ns]', name='time', freq='MS')"
      ]
     },
     "execution_count": 7,
     "metadata": {},
     "output_type": "execute_result"
    }
   ],
   "source": [
    "ds.time.indexes"
   ]
  },
  {
   "cell_type": "code",
   "execution_count": 8,
   "metadata": {},
   "outputs": [
    {
     "name": "stdout",
     "output_type": "stream",
     "text": [
      "<xarray.DataArray 'time' ()>\n",
      "array('2014-11-01T00:00:00.000000000', dtype='datetime64[ns]')\n",
      "Coordinates:\n",
      "    time     datetime64[ns] 2014-11-01\n"
     ]
    }
   ],
   "source": [
    "print(seltime)"
   ]
  },
  {
   "cell_type": "code",
   "execution_count": 9,
   "metadata": {},
   "outputs": [
    {
     "name": "stdout",
     "output_type": "stream",
     "text": [
      "\n",
      "INSTALLED VERSIONS\n",
      "------------------\n",
      "commit: None\n",
      "python: 3.7.3 (default, Apr  3 2019, 19:16:38) \n",
      "[GCC 8.0.1 20180414 (experimental) [trunk revision 259383]]\n",
      "python-bits: 64\n",
      "OS: Linux\n",
      "OS-release: 4.15.0-58-generic\n",
      "machine: x86_64\n",
      "processor: x86_64\n",
      "byteorder: little\n",
      "LC_ALL: None\n",
      "LANG: en_US.UTF-8\n",
      "LOCALE: en_US.UTF-8\n",
      "libhdf5: 1.10.0\n",
      "libnetcdf: 4.6.0\n",
      "\n",
      "xarray: 0.11.3\n",
      "pandas: 0.25.2\n",
      "numpy: 1.17.3\n",
      "scipy: 1.3.1\n",
      "netCDF4: 1.4.0\n",
      "pydap: None\n",
      "h5netcdf: None\n",
      "h5py: None\n",
      "Nio: None\n",
      "zarr: None\n",
      "cftime: 1.0.3.4\n",
      "PseudonetCDF: None\n",
      "rasterio: 1.0.26\n",
      "cfgrib: None\n",
      "iris: None\n",
      "bottleneck: 1.2.1\n",
      "cyordereddict: None\n",
      "dask: 2.3.0\n",
      "distributed: None\n",
      "matplotlib: 3.1.1\n",
      "cartopy: 0.17.0\n",
      "seaborn: 0.9.0\n",
      "setuptools: 41.2.0\n",
      "pip: 9.0.1\n",
      "conda: None\n",
      "pytest: None\n",
      "IPython: 7.7.0\n",
      "sphinx: None\n"
     ]
    }
   ],
   "source": [
    "xr.show_versions()"
   ]
  },
  {
   "cell_type": "code",
   "execution_count": null,
   "metadata": {},
   "outputs": [],
   "source": []
  }
 ],
 "metadata": {
  "kernelspec": {
   "display_name": "Python 3",
   "language": "python",
   "name": "python3"
  },
  "language_info": {
   "codemirror_mode": {
    "name": "ipython",
    "version": 3
   },
   "file_extension": ".py",
   "mimetype": "text/x-python",
   "name": "python",
   "nbconvert_exporter": "python",
   "pygments_lexer": "ipython3",
   "version": "3.7.3"
  }
 },
 "nbformat": 4,
 "nbformat_minor": 4
}
