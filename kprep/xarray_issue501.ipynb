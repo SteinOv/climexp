{
 "cells": [
  {
   "cell_type": "code",
   "execution_count": 1,
   "metadata": {},
   "outputs": [],
   "source": [
    "import xarray as xr"
   ]
  },
  {
   "cell_type": "code",
   "execution_count": 5,
   "metadata": {},
   "outputs": [],
   "source": [
    "data = xr.open_dataset('~/tmp/data.nc')\n",
    "gridarea = xr.open_dataset('~/tmp/gridarea.nc')#.sel(lat=data.lat,lon=data.lon)\n",
    "new_data = data * gridarea"
   ]
  },
  {
   "cell_type": "code",
   "execution_count": 11,
   "metadata": {},
   "outputs": [
    {
     "name": "stdout",
     "output_type": "stream",
     "text": [
      "<xarray.DataArray 'lat' ()>\n",
      "array(True)\n",
      "<xarray.DataArray 'lon' ()>\n",
      "array(True)\n"
     ]
    }
   ],
   "source": [
    "print((data.lat == gridarea.lat).all())\n",
    "print((data.lon == gridarea.lon).all())"
   ]
  },
  {
   "cell_type": "code",
   "execution_count": 6,
   "metadata": {},
   "outputs": [
    {
     "name": "stdout",
     "output_type": "stream",
     "text": [
      "<xarray.Dataset>\n",
      "Dimensions:  (lat: 16, lon: 30, time: 1)\n",
      "Coordinates:\n",
      "  * time     (time) datetime64[ns] 1995-01-01T12:00:00\n",
      "  * lon      (lon) float64 0.0 1.125 2.25 3.375 4.5 ... 29.25 30.38 31.5 32.62\n",
      "  * lat      (lat) float64 71.21 70.09 68.97 67.85 ... 57.76 56.64 55.51 54.39\n",
      "Data variables:\n",
      "    U10M     (time, lat, lon) float32 ...\n",
      "Attributes:\n",
      "    CDI:          Climate Data Interface version ?? (http://mpimet.mpg.de/cdi)\n",
      "    history:      Thu Oct 31 10:19:55 2019: cdo seltimestep,1 u10m_ec_test.nc...\n",
      "    institution:  European Centre for Medium-Range Weather Forecasts\n",
      "    Conventions:  CF-1.4\n",
      "    CDO:          Climate Data Operators version 1.9.3 (http://mpimet.mpg.de/...\n"
     ]
    }
   ],
   "source": [
    "print(data)"
   ]
  },
  {
   "cell_type": "code",
   "execution_count": 7,
   "metadata": {},
   "outputs": [
    {
     "name": "stdout",
     "output_type": "stream",
     "text": [
      "<xarray.Dataset>\n",
      "Dimensions:  (lat: 12, lon: 30, time: 1)\n",
      "Coordinates:\n",
      "  * lat      (lat) float64 71.21 70.09 68.97 65.61 ... 58.88 57.76 56.64 55.51\n",
      "  * time     (time) datetime64[ns] 1995-01-01T12:00:00\n",
      "  * lon      (lon) float64 0.0 1.125 2.25 3.375 4.5 ... 29.25 30.38 31.5 32.62\n",
      "Data variables:\n",
      "    *empty*\n"
     ]
    }
   ],
   "source": [
    "print(new_data)"
   ]
  },
  {
   "cell_type": "code",
   "execution_count": 13,
   "metadata": {},
   "outputs": [
    {
     "name": "stdout",
     "output_type": "stream",
     "text": [
      "<xarray.DataArray 'lat' (lat: 12)>\n",
      "array([ True,  True,  True,  True,  True,  True,  True,  True,  True,\n",
      "        True,  True,  True])\n",
      "Coordinates:\n",
      "  * lat      (lat) float64 71.21 70.09 68.97 65.61 ... 58.88 57.76 56.64 55.51\n"
     ]
    }
   ],
   "source": [
    "print(data.lat == gridarea.lat)"
   ]
  },
  {
   "cell_type": "code",
   "execution_count": 14,
   "metadata": {},
   "outputs": [
    {
     "name": "stdout",
     "output_type": "stream",
     "text": [
      "[ True  True  True False False  True False  True  True  True  True  True\n",
      "  True  True  True False]\n"
     ]
    }
   ],
   "source": [
    "print(data.lat.values == gridarea.lat.values)"
   ]
  },
  {
   "cell_type": "code",
   "execution_count": 46,
   "metadata": {},
   "outputs": [
    {
     "data": {
      "text/plain": [
       "lat: Float64Index([ 71.21413607988698,  70.09269035162447,  68.97123953893585,\n",
       "                    67.84978441466984,   66.7283256028822,  65.60686361301026,\n",
       "                     64.4853988650433,   63.3639317083405, 62.242462435890694,\n",
       "                   61.120991295252104, 59.999518497040434,   58.8780442215827,\n",
       "                     57.7565686241836,  56.63509183933024,  55.51361398407721,\n",
       "                    54.39213516079206],\n",
       "                  dtype='float64', name='lat')"
      ]
     },
     "execution_count": 46,
     "metadata": {},
     "output_type": "execute_result"
    }
   ],
   "source": [
    "gridarea.lat.indexes"
   ]
  },
  {
   "cell_type": "code",
   "execution_count": 15,
   "metadata": {},
   "outputs": [
    {
     "data": {
      "text/plain": [
       "lat: Float64Index([ 71.21413607988698,  70.09269035162447,  68.97123953893585,\n",
       "                    67.84978441466983,  66.72832560288221,  65.60686361301026,\n",
       "                    64.48539886504328,   63.3639317083405, 62.242462435890694,\n",
       "                   61.120991295252104, 59.999518497040434,   58.8780442215827,\n",
       "                     57.7565686241836,  56.63509183933024,  55.51361398407721,\n",
       "                   54.392135160792066],\n",
       "                  dtype='float64', name='lat')"
      ]
     },
     "execution_count": 15,
     "metadata": {},
     "output_type": "execute_result"
    }
   ],
   "source": [
    "data.lat.indexes"
   ]
  },
  {
   "cell_type": "code",
   "execution_count": 18,
   "metadata": {},
   "outputs": [
    {
     "data": {
      "text/plain": [
       "array([71.21413608, 70.09269035, 68.97123954, 67.84978441, 66.7283256 ,\n",
       "       65.60686361, 64.48539887, 63.36393171, 62.24246244, 61.1209913 ,\n",
       "       59.9995185 , 58.87804422, 57.75656862, 56.63509184, 55.51361398,\n",
       "       54.39213516])"
      ]
     },
     "execution_count": 18,
     "metadata": {},
     "output_type": "execute_result"
    }
   ],
   "source": [
    "gridarea.lat.values[16:32]"
   ]
  },
  {
   "cell_type": "code",
   "execution_count": 20,
   "metadata": {},
   "outputs": [
    {
     "name": "stdout",
     "output_type": "stream",
     "text": [
      "\n",
      "INSTALLED VERSIONS\n",
      "------------------\n",
      "commit: None\n",
      "python: 3.7.3 (default, Apr  3 2019, 19:16:38) \n",
      "[GCC 8.0.1 20180414 (experimental) [trunk revision 259383]]\n",
      "python-bits: 64\n",
      "OS: Linux\n",
      "OS-release: 4.15.0-58-generic\n",
      "machine: x86_64\n",
      "processor: x86_64\n",
      "byteorder: little\n",
      "LC_ALL: None\n",
      "LANG: en_US.UTF-8\n",
      "LOCALE: en_US.UTF-8\n",
      "libhdf5: 1.10.0\n",
      "libnetcdf: 4.6.0\n",
      "\n",
      "xarray: 0.14.0\n",
      "pandas: 0.25.2\n",
      "numpy: 1.17.3\n",
      "scipy: 1.3.1\n",
      "netCDF4: 1.4.0\n",
      "pydap: None\n",
      "h5netcdf: None\n",
      "h5py: None\n",
      "Nio: None\n",
      "zarr: None\n",
      "cftime: 1.0.3.4\n",
      "nc_time_axis: 1.1.0\n",
      "PseudoNetCDF: None\n",
      "rasterio: 1.0.26\n",
      "cfgrib: None\n",
      "iris: None\n",
      "bottleneck: 1.2.1\n",
      "dask: 2.3.0\n",
      "distributed: None\n",
      "matplotlib: 3.1.1\n",
      "cartopy: 0.17.0\n",
      "seaborn: 0.9.0\n",
      "numbagg: None\n",
      "setuptools: 41.2.0\n",
      "pip: 9.0.1\n",
      "conda: None\n",
      "pytest: None\n",
      "IPython: 7.7.0\n",
      "sphinx: None\n"
     ]
    }
   ],
   "source": [
    "xr.show_versions()"
   ]
  },
  {
   "cell_type": "code",
   "execution_count": null,
   "metadata": {},
   "outputs": [],
   "source": []
  }
 ],
 "metadata": {
  "kernelspec": {
   "display_name": "Python 3",
   "language": "python",
   "name": "python3"
  },
  "language_info": {
   "codemirror_mode": {
    "name": "ipython",
    "version": 3
   },
   "file_extension": ".py",
   "mimetype": "text/x-python",
   "name": "python",
   "nbconvert_exporter": "python",
   "pygments_lexer": "ipython3",
   "version": "3.7.3"
  }
 },
 "nbformat": 4,
 "nbformat_minor": 4
}
